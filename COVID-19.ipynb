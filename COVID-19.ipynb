{
 "cells": [
  {
   "cell_type": "markdown",
   "metadata": {},
   "source": [
    "# COVID-19 Research Notebook"
   ]
  },
  {
   "cell_type": "markdown",
   "metadata": {},
   "source": [
    "I'm tired of fake news, misleading information circulating around and spineless government entities. This notebook is how I aim to dig details about COVID-19.\n",
    "\n",
    "Please contribute to this notebook. If you have any information that should be added, either submit a PR with the change, or [open an issue](https://github.com/yash101/COVID-19-Research/issues) with the details regarding what you would like me to do (preferred)."
   ]
  },
  {
   "cell_type": "markdown",
   "metadata": {},
   "source": [
    "## About Me"
   ]
  },
  {
   "cell_type": "markdown",
   "metadata": {},
   "source": [
    "I'm Devyash Lodha, a computer scientist waiting for things to reopen and return to normal. My goal is to figure out how we can achieve this.\n",
    "Follow me on [instagram](https://www.instagram.com/therealyash101/)!"
   ]
  },
  {
   "cell_type": "markdown",
   "metadata": {},
   "source": [
    "## Some Sources I use and Trust"
   ]
  },
  {
   "cell_type": "markdown",
   "metadata": {},
   "source": [
    "- [John Hopkins University, Coronavirus Resource Center](https://coronavirus.jhu.edu/)\n",
    "    - [Direct data source](https://github.com/CSSEGISandData/COVID-19)\n",
    "- [CDC](https://www.cdc.gov/)\n",
    "- Mostly papers"
   ]
  },
  {
   "cell_type": "markdown",
   "metadata": {},
   "source": [
    "## Origin of COVID-19"
   ]
  },
  {
   "cell_type": "markdown",
   "metadata": {},
   "source": [
    "No one has an accurate answer.\n",
    "\n",
    "The current consensus is that it came about naturally.\n",
    "\n",
    "It is possible that the virus was released due to a laboratory accident.\n",
    "\n",
    "[Office of the Director of National Intelligence](https://www.dni.gov/index.php/newsroom/press-releases/item/2112-intelligence-community-statement-on-origins-of-covid-19)"
   ]
  },
  {
   "cell_type": "markdown",
   "metadata": {},
   "source": [
    "## "
   ]
  }
 ],
 "metadata": {
  "kernelspec": {
   "display_name": "Python 3",
   "language": "python",
   "name": "python3"
  },
  "language_info": {
   "codemirror_mode": {
    "name": "ipython",
    "version": 3
   },
   "file_extension": ".py",
   "mimetype": "text/x-python",
   "name": "python",
   "nbconvert_exporter": "python",
   "pygments_lexer": "ipython3",
   "version": "3.6.9"
  },
  "toc": {
   "nav_menu": {},
   "number_sections": true,
   "sideBar": true,
   "skip_h1_title": false,
   "title_cell": "Table of Contents",
   "title_sidebar": "Contents",
   "toc_cell": false,
   "toc_position": {},
   "toc_section_display": true,
   "toc_window_display": false
  }
 },
 "nbformat": 4,
 "nbformat_minor": 2
}
